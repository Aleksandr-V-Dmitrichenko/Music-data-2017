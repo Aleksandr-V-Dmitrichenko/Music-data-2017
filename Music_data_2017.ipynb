{
 "cells": [
  {
   "cell_type": "markdown",
   "metadata": {},
   "source": [
    "This project was created for improving understanding Object-Oriented Programming paradigm. Here I've written my own class for comfortable work with dataset in csv format.\n",
    "\n",
    "I've used 'music_data.csv' dataset which contains inforamation about an artists, their songs, and streams in defined date.\n",
    " \n",
    "The purpose of this project is create class to answer the following queations: \n",
    "* Which song had the highest number of plays in one month?\n",
    "* Which song had the lowest number of plays in one month?\n",
    "\n",
    "There are so many famous music artists and how will we know which from them most popular and which opposite less popular? Solution of this problem uses entertaining orgainzations in their ratings. In dataset we have there is quantative feature called 'streams' using which we will get understanding what singer was most popular in certain date."
   ]
  },
  {
   "cell_type": "code",
   "execution_count": 1,
   "metadata": {},
   "outputs": [],
   "source": [
    "import csv\n",
    "from statistics import mean, stdev, median, mode\n",
    "from datetime import datetime\n",
    "\n",
    "\n",
    "\n",
    "class MyPandas():\n",
    "    \n",
    "    def __init__(self, filename, data=None, columns=None):\n",
    "        self.filename = filename\n",
    "        \n",
    "    def read_data(self):\n",
    "        self.data = list(csv.reader(open(self.filename, encoding='utf-8')))\n",
    "        self.columns = self.data[0]\n",
    "        \n",
    "    def head(self, n=5):\n",
    "        return self.data[:n]\n",
    "    \n",
    "    def shape(self):\n",
    "        count_rows = 0\n",
    "        for row in self.data:\n",
    "            count_rows += 1\n",
    "        count_cols = len(self.columns)\n",
    "        return (count_rows, count_cols)\n",
    "    \n",
    "    def new_column(self, column_name):\n",
    "        for pos, col in enumerate(self.data):\n",
    "            if pos == 0:\n",
    "                col.append(column_name)\n",
    "            else:\n",
    "                col.append('N/A')\n",
    "    \n",
    "    def apply(self, column_name, new_value):\n",
    "        for pos, col in enumerate(self.data[0]):\n",
    "            if col == column_name:\n",
    "                col_index = pos\n",
    "        \n",
    "        for pos, row in enumerate(self.data[1:]):\n",
    "            row[col_index] = new_value[pos]\n",
    "            \n",
    "    def subset(self, column_name, row_value):\n",
    "        for pos, col in enumerate(self.columns):\n",
    "            if col == column_name:\n",
    "                col_index = pos\n",
    "        \n",
    "        subset_data = []\n",
    "        for data in self.data[1:]:\n",
    "            if row_value in data:\n",
    "                subset_data.append(data)\n",
    "        return subset_data\n",
    "    \n",
    "    def summary_stats(self,column_name):\n",
    "        for pos, col in enumerate(self.data[0]):\n",
    "            if col == column_name:\n",
    "                col_index = pos\n",
    "                \n",
    "        col_values = [data[col_index] for data in self.data[1:]]\n",
    "        print('The mean is {mean}'.format(mean= round(mean(col_values),3)))\n",
    "        print('The meadian is {median}'.format(median= median(col_values)))\n",
    "        print('The stdev is {stdev}'.format(stdev= round(stdev(col_values),3)))\n",
    "        print('The mode is {mode}'.format(mode= mode(col_values)))\n",
    "        \n",
    "    def maximum(self, column_name):\n",
    "        for pos, col in enumerate(self.data[0]):\n",
    "            if column_name == col:\n",
    "                col_index = pos\n",
    "                \n",
    "        col_values = [[data[1], data[2], data[col_index]] for data in self.data[1:]]\n",
    "        return max(col_values, key= lambda x: x[2])\n",
    "    \n",
    "    def minimum(self, column_name):\n",
    "        for pos, col in enumerate(self.data[0]):\n",
    "            if column_name == col:\n",
    "                col_index = pos\n",
    "        \n",
    "        col_values = [[data[1], data[2], data[col_index]] for data in self.data[1:]]\n",
    "        return min(col_values, key= lambda x: x[2])\n",
    "    \n",
    "    def astype(self, column_name, dtype):\n",
    "        for pos, col in enumerate(self.data[0]):\n",
    "            if column_name == col:\n",
    "                col_index = pos\n",
    "        \n",
    "        conv_values = [dtype(data[col_index]) for data in self.data[1:]]\n",
    "        return conv_values\n",
    "    \n",
    "    def get_month(self, column_name):\n",
    "        for pos, col in enumerate(self.data[0]):\n",
    "            if column_name == col:\n",
    "                col_index = pos\n",
    "        \n",
    "        month_col = []\n",
    "        for data in self.data[1:]:\n",
    "            month_col.append(datetime.strptime(data[col_index], '%Y-%m-%d').month)\n",
    "        return month_col\n"
   ]
  },
  {
   "cell_type": "code",
   "execution_count": 2,
   "metadata": {},
   "outputs": [
    {
     "name": "stdout",
     "output_type": "stream",
     "text": [
      "The mean is 6551.853\n",
      "The meadian is 4753.5\n",
      "The stdev is 4835.224\n",
      "The mode is 3185.0\n",
      "['Por Fin Te Encontré', 'Cali Y El Dandee', 1993.0]\n",
      "['Despacito (Featuring Daddy Yankee)', 'Luis Fonsi', 64238.0]\n"
     ]
    }
   ],
   "source": [
    "music_data = MyPandas('music_data.csv')\n",
    "music_data.read_data()\n",
    "music_data.new_column('Streams_int')\n",
    "music_data.apply('Streams_int', music_data.astype('Streams', dtype=float))\n",
    "music_data.summary_stats('Streams_int')\n",
    "print(music_data.minimum('Streams_int'))\n",
    "print(music_data.maximum('Streams_int'))"
   ]
  },
  {
   "cell_type": "markdown",
   "metadata": {},
   "source": [
    "As we see Luis Fonsi was most popular music artist in 2017."
   ]
  },
  {
   "cell_type": "code",
   "execution_count": 3,
   "metadata": {},
   "outputs": [],
   "source": [
    "music_data.new_column('Month')\n",
    "music_data.apply('Month', music_data.get_month('Date'))"
   ]
  },
  {
   "cell_type": "code",
   "execution_count": 4,
   "metadata": {
    "scrolled": true
   },
   "outputs": [
    {
     "name": "stdout",
     "output_type": "stream",
     "text": [
      "1: ['Despacito (Featuring Daddy Yankee)', 'Luis Fonsi', '64238']\n",
      "['Starving', 'Hailee Steinfeld', '2019']\n",
      "2: ['Despacito (Featuring Daddy Yankee)', 'Luis Fonsi', '58921']\n",
      "['Por Fin Te Encontré', 'Cali Y El Dandee', '1993']\n",
      "3: ['Despacito (Featuring Daddy Yankee)', 'Luis Fonsi', '37110']\n",
      "['Para Enamorarte', 'CNCO', '2147']\n",
      "4: ['Despacito - Remix', 'Luis Fonsi', '28054']\n",
      "['Encanto', 'Don Omar', '2026']\n",
      "5: ['Felices los 4', 'Maluma', '38310']\n",
      "['Desde Esa Noche', 'Thalía', '2266']\n",
      "6: ['Felices los 4', 'Maluma', '33529']\n",
      "['Paris', 'The Chainsmokers', '2418']\n",
      "7: ['Mi Gente', 'J Balvin', '33393']\n",
      "['Ando buscando', 'Carlos Baute', '2445']\n",
      "8: ['Mi Gente', 'J Balvin', '30178']\n",
      "['Photograph', 'Ed Sheeran', '2483']\n",
      "9: ['Robarte un Beso', 'Carlos Vives', '29146']\n",
      "['Una Lady Como Tú - Remix', 'Manuel Turizo', '2714']\n",
      "10: ['Robarte un Beso', 'Carlos Vives', '26231']\n",
      "['Díganle', 'Leslie Grace', '2585']\n",
      "11: ['Échame La Culpa', 'Luis Fonsi', '28661']\n",
      "['Thinking Out Loud', 'Ed Sheeran', '2656']\n",
      "12: ['Échame La Culpa', 'Luis Fonsi', '31555']\n",
      "[\"That's What I Like\", 'Bruno Mars', '2824']\n"
     ]
    }
   ],
   "source": [
    "for m in range(1,13):\n",
    "    print(str(m)+':',max(music_data.subset('Month', m), key= lambda x: x[-2])[1:4])\n",
    "    print(min(music_data.subset('Month', m), key= lambda x: x[-2])[1:4])"
   ]
  },
  {
   "cell_type": "markdown",
   "metadata": {},
   "source": [
    "Now we have understanding who was highest and lowest streamed musician in each month of 2017."
   ]
  }
 ],
 "metadata": {
  "kernelspec": {
   "display_name": "Python 3",
   "language": "python",
   "name": "python3"
  },
  "language_info": {
   "codemirror_mode": {
    "name": "ipython",
    "version": 3
   },
   "file_extension": ".py",
   "mimetype": "text/x-python",
   "name": "python",
   "nbconvert_exporter": "python",
   "pygments_lexer": "ipython3",
   "version": "3.6.3"
  }
 },
 "nbformat": 4,
 "nbformat_minor": 2
}
